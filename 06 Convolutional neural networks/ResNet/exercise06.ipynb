{
 "cells": [
  {
   "cell_type": "markdown",
   "metadata": {},
   "source": [
    "# Exercise 06 Convolutional Neural Networks\n",
    "\n",
    "In this exercise, you need to follow the requirements of each question to generate the Python code, and the following example is for reference：\n",
    "\n",
    "- Sample Question: Write a program that takes the user's name as input and prints \"Hello, [name]!\" where [name] is the user's input.\n",
    "\n",
    "- Potential Answer:\n",
    "\n",
    "```python\n",
    "    name = input(\"Enter your name: \")\n",
    "    print(\"Hello, \" + name + \"!\")\n",
    "```\n",
    "- If you enter 'David', the code will output 'Hello, David!', and this will satisfy the requirements.\n",
    "\n",
    "## Attention\n",
    "- Generally, there will be multiple answers for one question and you don't have to strictly follow the instructions in the tutorial, as long as you can make the output of the code meet the requirements of the question.\n",
    "- If possible, strive to make your code concise and avoid excessive reliance on less commonly used libraries.\n",
    "- You may need to search for information on the Internet to complete the excercise."
   ]
  },
  {
   "cell_type": "markdown",
   "metadata": {},
   "source": [
    "### Question 01: Please build a ResNet-18 model based on the code in the tutorial to classify the images in the 'data' folder. Modify the relevant parameters from the tutorial such as learning rate, batch size, optimizer, number of epochs, loss function, etc., to achieve a better model than the one in the tutorial. Additionally, Please add some code to the original code to record the train loss and validation loss for each epoch. Then, plot them on a graph together.\n",
    "\n",
    "### Write your answer in the following code frame:"
   ]
  },
  {
   "cell_type": "code",
   "execution_count": null,
   "metadata": {
    "vscode": {
     "languageId": "plaintext"
    }
   },
   "outputs": [],
   "source": []
  }
 ],
 "metadata": {
  "kernelspec": {
   "display_name": "Python 3",
   "language": "python",
   "name": "python3"
  },
  "language_info": {
   "codemirror_mode": {
    "name": "ipython",
    "version": 3
   },
   "file_extension": ".py",
   "mimetype": "text/x-python",
   "name": "python",
   "nbconvert_exporter": "python",
   "pygments_lexer": "ipython3",
   "version": "3.8.17"
  },
  "orig_nbformat": 4
 },
 "nbformat": 4,
 "nbformat_minor": 2
}
