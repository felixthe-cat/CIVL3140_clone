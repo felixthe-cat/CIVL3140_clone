{
 "cells": [
  {
   "cell_type": "markdown",
   "metadata": {},
   "source": [
    "# Exercise 05 Recurrent Neural Networks\n",
    "\n",
    "In this exercise, you need to follow the requirements of each question to generate the Python code, and the following example is for reference：\n",
    "\n",
    "- Sample Question: Write a program that takes the user's name as input and prints \"Hello, [name]!\" where [name] is the user's input.\n",
    "\n",
    "- Potential Answer:\n",
    "\n",
    "```python\n",
    "    name = input(\"Enter your name: \")\n",
    "    print(\"Hello, \" + name + \"!\")\n",
    "```\n",
    "- If you enter 'David', the code will output 'Hello, David!', and this will satisfy the requirements.\n",
    "\n",
    "## Attention\n",
    "- Generally, there will be multiple answers for one question and you don't have to strictly follow the instructions in the tutorial, as long as you can make the output of the code meet the requirements of the question.\n",
    "- If possible, strive to make your code concise and avoid excessive reliance on less commonly used libraries.\n",
    "- You may need to search for information on the Internet to complete the excercise.\n",
    "- Please answer the questions in order."
   ]
  },
  {
   "cell_type": "markdown",
   "metadata": {},
   "source": [
    "## Question 01: The following code are extracted from the tutorial, helping you prepare the data. Copy the following code to run them first and continue finishing the question.\n",
    "\n",
    "\n",
    "```python\n",
    "    import numpy as np\n",
    "    import pandas as pd\n",
    "    import matplotlib.pyplot as plt\n",
    "    import math\n",
    "    import torch\n",
    "    from torch import nn\n",
    "    from sklearn.preprocessing import MinMaxScaler\n",
    "    dataframe = pd.read_csv('airline-passengers.csv', usecols=[1], engine='python')\n",
    "    dataset = dataframe.values\n",
    "    timeseries = dataset.astype('float32')\n",
    "```\n",
    "\n",
    "### Requirements\n",
    "\n",
    "- Normolize the dataset and split the training set and the test set by a ratio of 2 to 1.\n",
    "- Using the `create_dataset` function in the tutorial and set the parameter look_back as 3.\n",
    "- Generate the train data and test data with the proper shape.\n",
    "\n",
    "## Write your answer in the following code frame:"
   ]
  },
  {
   "cell_type": "code",
   "execution_count": null,
   "metadata": {},
   "outputs": [],
   "source": []
  },
  {
   "cell_type": "markdown",
   "metadata": {},
   "source": [
    "## Question 02: Define a model using `class`, and change the parameters in the LSTM layer.\n",
    "\n",
    "## Write your answer in the following code frame:"
   ]
  },
  {
   "cell_type": "code",
   "execution_count": null,
   "metadata": {},
   "outputs": [],
   "source": []
  },
  {
   "cell_type": "markdown",
   "metadata": {},
   "source": [
    "## Question 03: Construct your model defined in question 02, then use `Adam` as the optimizer and `MSE` as the loss function. Specify n_epochs to 2000, then train the model using batch size of 16. Observe how they differ from the training results in the tutorial.\n",
    "\n",
    "\n",
    "## Write your answer in the following code frame:"
   ]
  },
  {
   "cell_type": "code",
   "execution_count": null,
   "metadata": {},
   "outputs": [],
   "source": []
  },
  {
   "cell_type": "markdown",
   "metadata": {},
   "source": [
    "## Question 04: Plot your prediction and the true data together, and use blue line as the actual data, orange line as the train prediction, green line as the test prediction.\n",
    "\n",
    "\n",
    "## Write your answer in the following code frame:"
   ]
  },
  {
   "cell_type": "code",
   "execution_count": null,
   "metadata": {},
   "outputs": [],
   "source": []
  }
 ],
 "metadata": {
  "kernelspec": {
   "display_name": "base",
   "language": "python",
   "name": "python3"
  },
  "language_info": {
   "codemirror_mode": {
    "name": "ipython",
    "version": 3
   },
   "file_extension": ".py",
   "mimetype": "text/x-python",
   "name": "python",
   "nbconvert_exporter": "python",
   "pygments_lexer": "ipython3",
   "version": "3.9.13"
  },
  "orig_nbformat": 4
 },
 "nbformat": 4,
 "nbformat_minor": 2
}
