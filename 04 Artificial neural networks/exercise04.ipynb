{
 "cells": [
  {
   "cell_type": "markdown",
   "metadata": {},
   "source": [
    "# Exercise 04 Artificial Neural Networks\n",
    "\n",
    "In this exercise, you need to follow the requirements of each question to generate the Python code, and the following example is for reference：\n",
    "\n",
    "- Sample Question: Write a program that takes the user's name as input and prints \"Hello, [name]!\" where [name] is the user's input.\n",
    "\n",
    "- Potential Answer:\n",
    "\n",
    "```python\n",
    "    name = input(\"Enter your name: \")\n",
    "    print(\"Hello, \" + name + \"!\")\n",
    "```\n",
    "- If you enter 'David', the code will output 'Hello, David!', and this will satisfy the requirements.\n",
    "\n",
    "## Attention\n",
    "- Generally, there will be multiple answers for one question and you don't have to strictly follow the instructions in the tutorial, as long as you can make the output of the code meet the requirements of the question.\n",
    "- If possible, strive to make your code concise and avoid excessive reliance on less commonly used libraries.\n",
    "- You may need to search for information on the Internet to complete the excercise.\n",
    "- Please answer the questions in order."
   ]
  },
  {
   "cell_type": "markdown",
   "metadata": {},
   "source": [
    "## Question 01: The following code are extracted from the tutorial, helping you prepare the data. Copy the following code to run them first and continue finishing the question.\n",
    "\n",
    "\n",
    "```python\n",
    "    import numpy as np\n",
    "    import pandas as pd\n",
    "    import matplotlib.pyplot as plt\n",
    "    from sklearn.preprocessing import minmax_scale\n",
    "    import torch\n",
    "    import torch.nn as nn\n",
    "    import torch.optim as optim\n",
    "    from torchinfo import summary\n",
    "    from torch.utils.data import TensorDataset\n",
    "    from torchvision import datasets\n",
    "\n",
    "    data_BART_sld = pd.read_csv('data_X.csv').iloc[:48, 1:]\n",
    "    data_BART_sld.head()\n",
    "    OD_BART = np.load('3d_daily.npy').sum(axis=2)[17, :48]\n",
    "    # I'm copying the data definition here\n",
    "    X_train = minmax_scale(data_BART_sld)[:33, :]\n",
    "    y_train = minmax_scale(OD_BART)[:33].reshape(-1, 1)\n",
    "    X_val = minmax_scale(data_BART_sld)[33:, :]\n",
    "    y_val = minmax_scale(OD_BART)[33:].reshape(-1, 1)\n",
    "    device = torch.device(\"cuda\" if torch.cuda.is_available() else \"cpu\")\n",
    "\n",
    "    X_train = torch.tensor(X_train, dtype=torch.float32).to(device)\n",
    "    y_train = torch.tensor(y_train, dtype=torch.float32).to(device)\n",
    "    X_val = torch.tensor(X_val, dtype=torch.float32).to(device)\n",
    "    y_val = torch.tensor(y_val, dtype=torch.float32).to(device)\n",
    "\n",
    "    # minibatch training, useful for big data, not useful here but I'm showing how to do this\n",
    "    # to realize full batch training, simply set this value to be very large\n",
    "    batch_size = 100  \n",
    "    loader_train = torch.utils.data.DataLoader(\n",
    "        TensorDataset(X_train, y_train), batch_size, shuffle=True\n",
    "    )   \n",
    "    iter_train = iter(loader_train)\n",
    "```\n",
    "\n",
    "### Requirements\n",
    "\n",
    "- Create a new neural network model with a different hidden layer size (such as hid_dim = 4) and use other activation functions (such as ReLU). \n",
    "\n",
    "\n",
    "## Write your answer in the following code frame:"
   ]
  },
  {
   "cell_type": "code",
   "execution_count": null,
   "metadata": {},
   "outputs": [],
   "source": []
  },
  {
   "cell_type": "markdown",
   "metadata": {},
   "source": [
    "## Question 02: Use MSE as the Loss function of your model and use AdamW as your optimizer, then set an appropriate number for the epochs, train the model and print the validation loss and train loss every 20 epochs.\n",
    "\n",
    "## Write your answer in the following code frame:"
   ]
  },
  {
   "cell_type": "code",
   "execution_count": null,
   "metadata": {},
   "outputs": [],
   "source": []
  },
  {
   "cell_type": "markdown",
   "metadata": {},
   "source": [
    "## Question 03: Visualize your output of your model (with validation data), plot the prediction and true value together. \n",
    "\n",
    "## Write your answer in the following code frame:"
   ]
  },
  {
   "cell_type": "code",
   "execution_count": null,
   "metadata": {},
   "outputs": [],
   "source": []
  }
 ],
 "metadata": {
  "kernelspec": {
   "display_name": "base",
   "language": "python",
   "name": "python3"
  },
  "language_info": {
   "codemirror_mode": {
    "name": "ipython",
    "version": 3
   },
   "file_extension": ".py",
   "mimetype": "text/x-python",
   "name": "python",
   "nbconvert_exporter": "python",
   "pygments_lexer": "ipython3",
   "version": "3.9.13"
  },
  "orig_nbformat": 4
 },
 "nbformat": 4,
 "nbformat_minor": 2
}
